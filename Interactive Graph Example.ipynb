{
 "cells": [
  {
   "cell_type": "code",
   "execution_count": 1,
   "id": "187dfc64",
   "metadata": {},
   "outputs": [],
   "source": [
    "%run \"GPA Over 80 Display.ipynb\""
   ]
  },
  {
   "cell_type": "code",
   "execution_count": null,
   "id": "6458ed71",
   "metadata": {},
   "outputs": [],
   "source": [
    "# GPA - Cumulative GPA throughout high school. The calculation omits missing GPAs in any year, instead averaging across the GPAs that exist.\n",
    "# ELL Status - Measured as having ever been considered an ELL student between grades 8 and 12.\n",
    "# SES - Census tract based indicator of socioeconomic status. The indicator is binary, identifying students whose SES is in the bottom quintile and those whose SES is above that threshold.\n",
    "# Race/Ethnicity - Categorical race/ethnicity variable. Does not allow overlap (i.e. a Latinx student can only be Latinx, not White and Latinx)\n",
    "# Gender - Binary, male/female, gender indicator. This follows what NYC DOE delivers to the Research Alliance.\n",
    "# IEP - Indicates whether or not the student ever received special education services during high school."
   ]
  },
  {
   "cell_type": "code",
   "execution_count": 2,
   "id": "bdc595e7",
   "metadata": {},
   "outputs": [
    {
     "data": {
      "application/vnd.jupyter.widget-view+json": {
       "model_id": "078d0d1a6b504b30a8f59b6399357cc3",
       "version_major": 2,
       "version_minor": 0
      },
      "text/plain": [
       "interactive(children=(RadioButtons(description='Characteristic', options=('Race', 'Gender', 'ELL', 'IEP', 'SES…"
      ]
     },
     "metadata": {},
     "output_type": "display_data"
    },
    {
     "data": {
      "application/vnd.jupyter.widget-view+json": {
       "model_id": "0aeb8c9b6dcd46c09f03a95a6cc419f1",
       "version_major": 2,
       "version_minor": 0
      },
      "text/plain": [
       "VBox(children=(IntSlider(value=2008, description='9th Grade Cohort', max=2018, min=2008, style=SliderStyle(des…"
      ]
     },
     "metadata": {},
     "output_type": "display_data"
    }
   ],
   "source": [
    "interact(update_demographics, Characteristic=demographics_toggle2)\n",
    "widgets.VBox([cohort, fig])"
   ]
  }
 ],
 "metadata": {
  "kernelspec": {
   "display_name": "Python 3",
   "language": "python",
   "name": "python3"
  },
  "language_info": {
   "codemirror_mode": {
    "name": "ipython",
    "version": 3
   },
   "file_extension": ".py",
   "mimetype": "text/x-python",
   "name": "python",
   "nbconvert_exporter": "python",
   "pygments_lexer": "ipython3",
   "version": "3.8.6"
  }
 },
 "nbformat": 4,
 "nbformat_minor": 5
}
