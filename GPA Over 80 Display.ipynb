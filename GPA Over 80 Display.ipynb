{
 "cells": [
  {
   "cell_type": "code",
   "execution_count": 1,
   "metadata": {
    "extensions": {
     "jupyter_dashboards": {
      "version": 1,
      "views": {
       "grid_default": {},
       "report_default": {
        "hidden": true
       }
      }
     }
    },
    "scrolled": true
   },
   "outputs": [],
   "source": [
    "import pandas as pd\n",
    "import plotly.graph_objects as go\n",
    "import plotly.express as px\n",
    "import numpy as np\n",
    "from ipywidgets import widgets, interact, interactive, interact_manual, Layout\n",
    "from numpy import array\n",
    "import chart_studio.plotly as py\n",
    "import chart_studio\n",
    "\n",
    "# Importing data\n",
    "\n",
    "gpao80agg2008 = pd.read_csv(\n",
    "    'https://raw.githubusercontent.com/Reggie-Gilliard-RANYCS/interactive_graphs/master/data/GPAO80AGG2008.csv', index_col=0)\n",
    "gpao80agg2009 = pd.read_csv(\n",
    "    'https://raw.githubusercontent.com/Reggie-Gilliard-RANYCS/interactive_graphs/master/data/GPAO80AGG2009.csv', index_col=0)\n",
    "gpao80agg2010 = pd.read_csv(\n",
    "    'https://raw.githubusercontent.com/Reggie-Gilliard-RANYCS/interactive_graphs/master/data/GPAO80AGG2010.csv', index_col=0)\n",
    "gpao80agg2011 = pd.read_csv(\n",
    "    'https://raw.githubusercontent.com/Reggie-Gilliard-RANYCS/interactive_graphs/master/data/GPAO80AGG2011.csv', index_col=0)\n",
    "gpao80agg2012 = pd.read_csv(\n",
    "    'https://raw.githubusercontent.com/Reggie-Gilliard-RANYCS/interactive_graphs/master/data/GPAO80AGG2012.csv', index_col=0)\n",
    "gpao80agg2013 = pd.read_csv(\n",
    "    'https://raw.githubusercontent.com/Reggie-Gilliard-RANYCS/interactive_graphs/master/data/GPAO80AGG2013.csv', index_col=0)\n",
    "gpao80agg2014 = pd.read_csv(\n",
    "    'https://raw.githubusercontent.com/Reggie-Gilliard-RANYCS/interactive_graphs/master/data/GPAO80AGG2014.csv', index_col=0)\n",
    "gpao80agg2015 = pd.read_csv(\n",
    "    'https://raw.githubusercontent.com/Reggie-Gilliard-RANYCS/interactive_graphs/master/data/GPAO80AGG2015.csv', index_col=0)\n",
    "gpao80agg2016 = pd.read_csv(\n",
    "    'https://raw.githubusercontent.com/Reggie-Gilliard-RANYCS/interactive_graphs/master/data/GPAO80AGG2016.csv', index_col=0)\n",
    "gpao80agg2017 = pd.read_csv(\n",
    "    'https://raw.githubusercontent.com/Reggie-Gilliard-RANYCS/interactive_graphs/master/data/GPAO80AGG2017.csv', index_col=0)\n",
    "gpao80agg2018 = pd.read_csv(\n",
    "    'https://raw.githubusercontent.com/Reggie-Gilliard-RANYCS/interactive_graphs/master/data/GPAO80AGG2018.csv', index_col=0)"
   ]
  },
  {
   "cell_type": "code",
   "execution_count": 3,
   "metadata": {},
   "outputs": [],
   "source": [
    "datadict = {\n",
    "    \"2008\" : gpao80agg2008,\n",
    "    \"2009\" : gpao80agg2009,\n",
    "    \"2010\" : gpao80agg2010,\n",
    "    \"2011\" : gpao80agg2011,\n",
    "    \"2012\" : gpao80agg2012,\n",
    "    \"2013\" : gpao80agg2013,\n",
    "    \"2014\" : gpao80agg2014,\n",
    "    \"2015\" : gpao80agg2015,\n",
    "    \"2016\" : gpao80agg2016,\n",
    "    \"2017\" : gpao80agg2017,\n",
    "    \"2018\" : gpao80agg2018\n",
    "}"
   ]
  },
  {
   "cell_type": "code",
   "execution_count": 4,
   "metadata": {
    "extensions": {
     "jupyter_dashboards": {
      "version": 1,
      "views": {
       "grid_default": {
        "hidden": true
       },
       "report_default": {
        "hidden": true
       }
      }
     }
    }
   },
   "outputs": [],
   "source": [
    "colorvalues = [\"#b86b78\", \"#7e9c90\", \"#d68230\", \n",
    "                 \"#7c97ab\", \"#7d6890\"]"
   ]
  },
  {
   "cell_type": "code",
   "execution_count": 5,
   "metadata": {
    "extensions": {
     "jupyter_dashboards": {
      "version": 1,
      "views": {
       "grid_default": {},
       "report_default": {
        "hidden": true
       }
      }
     }
    }
   },
   "outputs": [],
   "source": [
    "tdat = gpao80agg2008.copy()"
   ]
  },
  {
   "cell_type": "code",
   "execution_count": 6,
   "metadata": {
    "extensions": {
     "jupyter_dashboards": {
      "version": 1,
      "views": {
       "grid_default": {},
       "report_default": {
        "hidden": true
       }
      }
     }
    }
   },
   "outputs": [],
   "source": [
    "# Drop Downs\n",
    "\n",
    "genoptions = tdat['GENCAT'].unique().tolist()\n",
    "genoptionsb = tdat['GENCAT'].unique().tolist()\n",
    "\n",
    "genoptions.append(\"ANY\")\n",
    "\n",
    "gender = widgets.Dropdown(\n",
    "    description = \"Gender:\",\n",
    "    options = genoptions,\n",
    "    value = \"ANY\")\n",
    "\n",
    "racoptions = tdat['ETHCAT'].unique().tolist()\n",
    "racoptionsb = tdat['ETHCAT'].unique().tolist()\n",
    "\n",
    "racoptions.append('ANY')\n",
    "\n",
    "race = widgets.Dropdown(\n",
    "    description = \"Race/Ethnicity:\",\n",
    "    options = racoptions,\n",
    "    value = 'ANY')\n",
    "\n",
    "elloptions = tdat[\"ANYELL0812\"].unique().tolist()\n",
    "elloptionsb = tdat[\"ANYELL0812\"].unique().tolist()\n",
    "\n",
    "elloptions.append('ALL')\n",
    "\n",
    "ell = widgets.Dropdown(\n",
    "    description = \"ELL Status:\",\n",
    "    options = elloptions,\n",
    "    value = \"ALL\")\n",
    "\n",
    "iepoptions = tdat['anyspd1'].unique().tolist()\n",
    "iepoptionsb = tdat['anyspd1'].unique().tolist()\n",
    "\n",
    "iepoptions.append('ALL')\n",
    "\n",
    "iep = widgets.Dropdown(\n",
    "    description = 'IEP Status:',\n",
    "    options = iepoptions,\n",
    "    value = 'ALL')\n",
    "\n",
    "disoptions = tdat['trulydis_b'].unique().tolist()\n",
    "disoptionsb = tdat['trulydis_b'].unique().tolist()\n",
    "\n",
    "disoptions.append('ALL')\n",
    "\n",
    "dis = widgets.Dropdown(\n",
    "    description = 'SES:',\n",
    "    options = disoptions,\n",
    "    value = 'ALL')\n",
    "\n",
    "cohort = widgets.IntSlider(\n",
    "    value = 2008,\n",
    "    min = 2008,\n",
    "    max = 2018,\n",
    "    description = \"9th Grade Cohort\",\n",
    "    style = {'description_width' : 'initial'})"
   ]
  },
  {
   "cell_type": "code",
   "execution_count": 7,
   "metadata": {
    "extensions": {
     "jupyter_dashboards": {
      "version": 1,
      "views": {
       "grid_default": {},
       "report_default": {
        "hidden": true
       }
      }
     }
    }
   },
   "outputs": [],
   "source": [
    "# Radio Buttons\n",
    "\n",
    "colnames = ['ETHCAT', 'GENCAT', 'ANYELL0812', 'anyspd1', 'trulydis_b']\n",
    "\n",
    "demos = widgets.Dropdown(\n",
    "    description = 'Rows:',\n",
    "    options = ['Race','Gender', 'ELL', 'IEP', 'SES'],\n",
    "    index = 0, disabled = False)\n",
    "\n",
    "demographics_toggle2 = widgets.RadioButtons(\n",
    "    options = ['Race','Gender', 'ELL', 'IEP', 'SES'],\n",
    "    index = 0, disabled = False, style={'description_width':'initial'})"
   ]
  },
  {
   "cell_type": "code",
   "execution_count": 8,
   "metadata": {
    "extensions": {
     "jupyter_dashboards": {
      "version": 1,
      "views": {
       "grid_default": {
        "hidden": true
       },
       "report_default": {
        "hidden": true
       }
      }
     }
    }
   },
   "outputs": [],
   "source": [
    "#Function to reset the graph, preventing too much slicing\n",
    "\n",
    "def reset():\n",
    "    global tdat\n",
    "    race.value = 'ANY'\n",
    "    gender.value = 'ANY'\n",
    "    ell.value = 'ALL'\n",
    "    dis.value = 'ALL'\n",
    "    iep.value = 'ALL'\n",
    "    demos.value = 'Race'\n",
    "    cohort.value = 2008\n",
    "    \n",
    "    sums = tdat.groupby(['ETHCAT']).Frequency.sum()\n",
    "    sums = sums.to_frame()\n",
    "    sums = sums.rename(columns = {'Frequency': 'freqcum'})\n",
    "    sums.reset_index(inplace = True)\n",
    "    temp_df = tdat.merge(sums, how = 'left', on = 'ETHCAT')\n",
    "    \n",
    "    freq = temp_df.Frequency\n",
    "    tot = temp_df.freqcum\n",
    "    location = len(temp_df.columns)\n",
    "    percent = freq/tot\n",
    "    temp_df.insert(loc = location, column = \"Percent\", value = percent * 100)\n",
    "    \n",
    "    o80dat = temp_df[(temp_df['AVG_GPA3'] == 'GPA Over 80')]\n",
    "    un80dat = temp_df[(temp_df['AVG_GPA3'] == 'GPA Under 80')]\n",
    "    un80dattemp = un80dat.groupby(['ETHCAT']).sum()\n",
    "    un80dattemp.reset_index(inplace = True)\n",
    "    un80dattemp.Percent = round(un80dattemp.Percent, 1)\n",
    "    o80dattemp = o80dat.groupby(['ETHCAT']).sum()\n",
    "    o80dattemp.reset_index(inplace = True)\n",
    "    o80dattemp.Percent = round(o80dattemp.Percent, 1)\n",
    "\n",
    "    with fig.batch_update():\n",
    "        fig.data[0].x = o80dattemp.Percent\n",
    "        fig.data[0].y = o80dattemp['ETHCAT']\n",
    "        fig.data[1].x = un80dattemp.Percent\n",
    "        fig.data[1].y = un80dattemp['ETHCAT']"
   ]
  },
  {
   "cell_type": "code",
   "execution_count": 9,
   "metadata": {
    "extensions": {
     "jupyter_dashboards": {
      "version": 1,
      "views": {
       "grid_default": {},
       "report_default": {
        "hidden": true
       }
      }
     }
    }
   },
   "outputs": [],
   "source": [
    "def buildfigure(indata):\n",
    "    global fig\n",
    "    \n",
    "    sums = indata.groupby(['ETHCAT']).Frequency.sum()\n",
    "    sums = sums.to_frame()\n",
    "    sums = sums.rename(columns = {'Frequency': 'freqcum'})\n",
    "    sums.reset_index(inplace = True)\n",
    "    temp_df = indata.merge(sums, how = 'left', on = 'ETHCAT')\n",
    "    \n",
    "    freq = temp_df.Frequency\n",
    "    tot = temp_df.freqcum\n",
    "    location = len(temp_df.columns)\n",
    "    percent = freq/tot\n",
    "    temp_df.insert(loc = location, column = \"Percent\", value = percent * 100)\n",
    "    \n",
    "    o80dat = temp_df[(temp_df['AVG_GPA3'] == 'GPA Over 80')]\n",
    "    un80dat = temp_df[(temp_df['AVG_GPA3'] == 'GPA Under 80')]\n",
    "    un80dattemp = un80dat.groupby(['ETHCAT']).sum()\n",
    "    un80dattemp.reset_index(inplace = True)\n",
    "    un80dattemp.Percent = round(un80dattemp.Percent, 1)\n",
    "    o80dattemp = o80dat.groupby(['ETHCAT']).sum()\n",
    "    o80dattemp.reset_index(inplace = True)\n",
    "    o80dattemp.Percent = round(o80dattemp.Percent, 1)\n",
    "    \n",
    "    fig=go.FigureWidget()\n",
    "    fig.add_bar(name = 'GPA Over 80', x=o80dattemp.Percent, y = o80dattemp.ETHCAT,\n",
    "                        marker = dict(color = colorvalues[4]),\n",
    "                        texttemplate = '%{x}%',\n",
    "                        textposition = 'inside',\n",
    "                        orientation = 'h',\n",
    "                        opacity = 1)\n",
    "    fig.add_bar(name = 'GPA Under 80', x=un80dattemp.Percent, y = un80dattemp.ETHCAT,\n",
    "                        marker = dict(color = colorvalues[3]),\n",
    "                        texttemplate = '%{x}%',\n",
    "                        textposition = 'inside',\n",
    "                        orientation = 'h',\n",
    "                        opacity = 1)\n",
    "    fig.update_layout(barmode = 'stack',\n",
    "                     title = 'GPA Over 80',\n",
    "                     xaxis_title = 'Percentage of Students',\n",
    "                      margin_b = 90,\n",
    "                     annotations = [dict(xref = 'paper',\n",
    "                                        yref = 'paper',\n",
    "                                        x=.5, y=-.25,\n",
    "                                        showarrow = False,\n",
    "                                        text = 'Step 1: Choose Rows; Step 2: Choose Characteristic for Subsetting')])\n",
    "    fig.update_xaxes(range = (0, 105))"
   ]
  },
  {
   "cell_type": "code",
   "execution_count": 10,
   "metadata": {
    "extensions": {
     "jupyter_dashboards": {
      "version": 1,
      "views": {
       "grid_default": {},
       "report_default": {
        "hidden": true
       }
      }
     }
    }
   },
   "outputs": [],
   "source": [
    "buildfigure(tdat)"
   ]
  },
  {
   "cell_type": "code",
   "execution_count": 11,
   "metadata": {
    "extensions": {
     "jupyter_dashboards": {
      "version": 1,
      "views": {
       "grid_default": {
        "hidden": true
       },
       "report_default": {
        "hidden": true
       }
      }
     }
    }
   },
   "outputs": [],
   "source": [
    "# Defining function updating demographics\n",
    "\n",
    "def update_demographics(Characteristic):\n",
    "    reset()    \n",
    "    global container\n",
    "    demographics = [race, gender, ell, iep, dis]\n",
    "    d2 = demographics_toggle2.index\n",
    "    container = widgets.HBox([demos, demographics[d2]])\n",
    "    return(container)\n",
    "    print(widgets.VBox([container]))"
   ]
  },
  {
   "cell_type": "code",
   "execution_count": 12,
   "metadata": {
    "extensions": {
     "jupyter_dashboards": {
      "version": 1,
      "views": {
       "grid_default": {
        "hidden": true
       },
       "report_default": {
        "hidden": true
       }
      }
     }
    }
   },
   "outputs": [],
   "source": [
    "# Defining function updating bar graph\n",
    "\n",
    "def updatetrace(change):\n",
    "    \n",
    "    global tdat\n",
    "\n",
    "    char = colnames[demos.index]\n",
    "    \n",
    "    temp_df = datadict[str(cohort.value)].copy()\n",
    "\n",
    "    if demographics_toggle2.value == 'Race' :\n",
    "        \n",
    "        if race.value in racoptionsb:\n",
    "\n",
    "            temp_df = temp_df[temp_df['ETHCAT'] == race.value]\n",
    "\n",
    "        else:\n",
    "\n",
    "            temp_df = temp_df\n",
    "\n",
    "    elif demographics_toggle2.value == 'Gender':\n",
    "\n",
    "        if gender.value in genoptionsb:\n",
    "\n",
    "            temp_df = temp_df[temp_df['GENCAT'] == gender.value]\n",
    "\n",
    "        else:\n",
    "\n",
    "            temp_df = temp_df\n",
    "\n",
    "    elif demographics_toggle2.value == 'Birth Place':\n",
    "        \n",
    "        if forborn.value in foroptionsb:\n",
    "\n",
    "            temp_df = temp_df[temp_df['FORBORN'] == forborn.value]\n",
    "\n",
    "        else:\n",
    "\n",
    "            temp_df = temp_df\n",
    "\n",
    "\n",
    "    elif demographics_toggle2.value == 'ELL':\n",
    "\n",
    "        if ell.value in elloptionsb:\n",
    "\n",
    "            temp_df = temp_df[temp_df['ANYELL0812'] == ell.value]\n",
    "\n",
    "        else:\n",
    "\n",
    "            temp_df = temp_df\n",
    "            \n",
    "    elif demographics_toggle2.value == 'IEP':\n",
    "\n",
    "        if iep.value in iepoptionsb:\n",
    "\n",
    "            temp_df = temp_df[temp_df['anyspd1'] == iep.value]\n",
    "\n",
    "        else:\n",
    "\n",
    "            temp_df = temp_df\n",
    "\n",
    "    elif demographics_toggle2.value == 'SES':\n",
    "\n",
    "        if dis.value in disoptionsb :\n",
    "\n",
    "            temp_df = temp_df[temp_df['trulydis_b'] == dis.value]\n",
    "\n",
    "        else:\n",
    "\n",
    "            temp_df = temp_df\n",
    "\n",
    "    sums = temp_df.groupby([char]).Frequency.sum()\n",
    "    sums = sums.to_frame()\n",
    "    sums = sums.rename(columns = {'Frequency': 'freqcum'})\n",
    "    sums.reset_index(inplace = True)\n",
    "    temp_df = temp_df.merge(sums, how = 'left', on = char)\n",
    "\n",
    "    freq = temp_df.Frequency\n",
    "    tot = temp_df.freqcum\n",
    "    location = len(temp_df.columns)\n",
    "    percent = freq/tot\n",
    "    temp_df.insert(loc = location, column = \"Percent\", value = percent * 100)\n",
    "\n",
    "    o80dat = temp_df[(temp_df['AVG_GPA3'] == 'GPA Over 80')]\n",
    "    un80dat = temp_df[(temp_df['AVG_GPA3'] == 'GPA Under 80')]\n",
    "    un80dattemp = un80dat.groupby([char]).sum()\n",
    "    un80dattemp.reset_index(inplace = True)\n",
    "    un80dattemp.Percent = round(un80dattemp.Percent, 1)\n",
    "    o80dattemp = o80dat.groupby([char]).sum()\n",
    "    o80dattemp.reset_index(inplace = True)\n",
    "    o80dattemp.Percent = round(o80dattemp.Percent, 1)\n",
    "\n",
    "    with fig.batch_update():\n",
    "        fig.data[0].x = o80dattemp.Percent\n",
    "        fig.data[0].y = o80dattemp[char]\n",
    "        fig.data[1].x = un80dattemp.Percent\n",
    "        fig.data[1].y = un80dattemp[char]"
   ]
  },
  {
   "cell_type": "code",
   "execution_count": 13,
   "metadata": {
    "extensions": {
     "jupyter_dashboards": {
      "version": 1,
      "views": {
       "grid_default": {
        "hidden": true
       },
       "report_default": {
        "hidden": true
       }
      }
     }
    }
   },
   "outputs": [],
   "source": [
    "# Observe\n",
    "\n",
    "race.observe(updatetrace, names = 'value')\n",
    "gender.observe(updatetrace, names = 'value')\n",
    "ell.observe(updatetrace, names = 'value')\n",
    "iep.observe(updatetrace, names = 'value')\n",
    "dis.observe(updatetrace, names = 'value')\n",
    "demos.observe(updatetrace, names = 'value')\n",
    "cohort.observe(updatetrace, names = 'value')"
   ]
  }
 ],
 "metadata": {
  "extensions": {
   "jupyter_dashboards": {
    "activeView": "report_default",
    "version": 1,
    "views": {
     "grid_default": {
      "name": "grid",
      "type": "grid"
     },
     "report_default": {
      "name": "report",
      "type": "report"
     }
    }
   }
  },
  "kernelspec": {
   "display_name": "Python 3",
   "language": "python",
   "name": "python3"
  },
  "language_info": {
   "codemirror_mode": {
    "name": "ipython",
    "version": 3
   },
   "file_extension": ".py",
   "mimetype": "text/x-python",
   "name": "python",
   "nbconvert_exporter": "python",
   "pygments_lexer": "ipython3",
   "version": "3.8.6"
  }
 },
 "nbformat": 4,
 "nbformat_minor": 4
}
